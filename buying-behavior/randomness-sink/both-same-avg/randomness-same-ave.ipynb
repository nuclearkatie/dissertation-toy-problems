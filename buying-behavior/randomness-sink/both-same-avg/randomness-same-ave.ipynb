{
 "cells": [
  {
   "cell_type": "markdown",
   "id": "coastal-citation",
   "metadata": {},
   "source": [
    "# Randomness in sink\n",
    "\n",
    "## imports"
   ]
  },
  {
   "cell_type": "code",
   "execution_count": 1,
   "id": "cathedral-termination",
   "metadata": {},
   "outputs": [
    {
     "name": "stderr",
     "output_type": "stream",
     "text": [
      "/root/.local/lib/python3.10/site-packages/matplotlib/projections/__init__.py:63: UserWarning: Unable to import Axes3D. This may be due to multiple versions of Matplotlib being installed (e.g. as a system package and as a pip package). As a result, the 3D projection is not available.\n",
      "  warnings.warn(\"Unable to import Axes3D. This may be due to multiple versions of \"\n",
      "/usr/lib/python3/dist-packages/scipy/__init__.py:146: UserWarning: A NumPy version >=1.17.3 and <1.25.0 is required for this version of SciPy (detected version 1.26.0\n",
      "  warnings.warn(f\"A NumPy version >={np_minversion} and <{np_maxversion}\"\n"
     ]
    }
   ],
   "source": [
    "import os\n",
    "import numpy as np\n",
    "import pandas as pd\n",
    "import matplotlib.pyplot as plt\n",
    "import seaborn as sns\n",
    "#import sqlite3"
   ]
  },
  {
   "cell_type": "code",
   "execution_count": 2,
   "id": "vertical-methodology",
   "metadata": {},
   "outputs": [],
   "source": [
    "import cymetric as cym\n",
    "from cymetric import graphs\n",
    "from cymetric import timeseries"
   ]
  },
  {
   "cell_type": "code",
   "execution_count": 3,
   "id": "collect-rachel",
   "metadata": {},
   "outputs": [],
   "source": [
    "fig_params = {'axes.labelsize': 11.5,\n",
    "              'font.family': 'serif',\n",
    "              'font.size': 10,\n",
    "              'legend.fontsize': 11,\n",
    "              'xtick.labelsize': 10.5,\n",
    "              'ytick.labelsize': 11,\n",
    "              'figure.figsize': [9, 6],\n",
    "              'figure.titlesize': 14.5,\n",
    "              'savefig.format': 'png',\n",
    "              'savefig.bbox': 'tight'}\n",
    "plt.rcParams.update(fig_params)\n",
    "\n",
    "palette = ['#507fb5', '#b5507f', '#7fb550', '#b58650']\n"
   ]
  },
  {
   "cell_type": "markdown",
   "id": "wireless-macro",
   "metadata": {},
   "source": [
    "## utils"
   ]
  },
  {
   "cell_type": "code",
   "execution_count": 4,
   "id": "included-cross",
   "metadata": {},
   "outputs": [],
   "source": [
    "def get_data(file):\n",
    "    db = cym.dbopen(file)\n",
    "    evaler = cym.Evaluator(db)\n",
    "    \n",
    "    name = os.path.splitext(file)[0]\n",
    "    \n",
    "    tr = evaler.eval('Transactions')\n",
    "    res = evaler.eval('Resources')\n",
    "    transactions = pd.merge(res, tr, on=['SimId', 'ResourceId'], how='inner')\n",
    "\n",
    "    agents = evaler.eval('Agents')\n",
    "    \n",
    "    storage_id = agents.loc[agents[\"Prototype\"] == \"SomeSink\"][\"AgentId\"]\n",
    "    transaction_subset = transactions.loc[transactions[\"ReceiverId\"] == storage_id.item()]\n",
    "    \n",
    "    data = {'ev': evaler,\n",
    "            'agents': agents,\n",
    "            'transactions': transactions,\n",
    "            't_s': transaction_subset}\n",
    "    \n",
    "    return name, data"
   ]
  },
  {
   "cell_type": "markdown",
   "id": "719c3859",
   "metadata": {},
   "source": [
    "## input file names below"
   ]
  },
  {
   "cell_type": "code",
   "execution_count": 5,
   "id": "professional-calculation",
   "metadata": {},
   "outputs": [],
   "source": [
    "filenames = ['no-behavior.sqlite',\n",
    "             'rbsa_0.sqlite',\n",
    "             'rbsa_1.sqlite',\n",
    "             'rbsa_2.sqlite',\n",
    "             'rbsa_3.sqlite',\n",
    "             'rbsa_4.sqlite',\n",
    "             'rbsa_5.sqlite',\n",
    "             'rbsa_6.sqlite',\n",
    "             'rbsa_7.sqlite',\n",
    "             'rbsa_8.sqlite',\n",
    "             'rbsa_9.sqlite',\n",
    "             'rbsa_10.sqlite']\n"
   ]
  },
  {
   "cell_type": "markdown",
   "id": "cf8ac35c",
   "metadata": {},
   "source": [
    "## grab all data"
   ]
  },
  {
   "cell_type": "code",
   "execution_count": 6,
   "id": "8ee4cbf2",
   "metadata": {},
   "outputs": [],
   "source": [
    "data = {}\n",
    "for file in filenames:\n",
    "    (name, file_data) = get_data(file)\n",
    "    data[name] = file_data"
   ]
  },
  {
   "cell_type": "code",
   "execution_count": 9,
   "id": "9ca3e716",
   "metadata": {},
   "outputs": [
    {
     "data": {
      "text/html": [
       "<div>\n",
       "<style scoped>\n",
       "    .dataframe tbody tr th:only-of-type {\n",
       "        vertical-align: middle;\n",
       "    }\n",
       "\n",
       "    .dataframe tbody tr th {\n",
       "        vertical-align: top;\n",
       "    }\n",
       "\n",
       "    .dataframe thead th {\n",
       "        text-align: right;\n",
       "    }\n",
       "</style>\n",
       "<table border=\"1\" class=\"dataframe\">\n",
       "  <thead>\n",
       "    <tr style=\"text-align: right;\">\n",
       "      <th></th>\n",
       "      <th>SimId</th>\n",
       "      <th>TransactionId</th>\n",
       "      <th>ResourceId</th>\n",
       "      <th>ObjId</th>\n",
       "      <th>TimeCreated</th>\n",
       "      <th>SenderId</th>\n",
       "      <th>ReceiverId</th>\n",
       "      <th>Commodity</th>\n",
       "      <th>Units</th>\n",
       "      <th>Quantity</th>\n",
       "    </tr>\n",
       "  </thead>\n",
       "  <tbody>\n",
       "    <tr>\n",
       "      <th>0</th>\n",
       "      <td>8adf3442-ee54-47cc-8a4d-cd1baf6d2401</td>\n",
       "      <td>0</td>\n",
       "      <td>7</td>\n",
       "      <td>5</td>\n",
       "      <td>0</td>\n",
       "      <td>14</td>\n",
       "      <td>15</td>\n",
       "      <td>commodity</td>\n",
       "      <td>kg</td>\n",
       "      <td>5.0</td>\n",
       "    </tr>\n",
       "    <tr>\n",
       "      <th>1</th>\n",
       "      <td>8adf3442-ee54-47cc-8a4d-cd1baf6d2401</td>\n",
       "      <td>1</td>\n",
       "      <td>13</td>\n",
       "      <td>9</td>\n",
       "      <td>1</td>\n",
       "      <td>14</td>\n",
       "      <td>15</td>\n",
       "      <td>commodity</td>\n",
       "      <td>kg</td>\n",
       "      <td>5.0</td>\n",
       "    </tr>\n",
       "    <tr>\n",
       "      <th>2</th>\n",
       "      <td>8adf3442-ee54-47cc-8a4d-cd1baf6d2401</td>\n",
       "      <td>2</td>\n",
       "      <td>19</td>\n",
       "      <td>13</td>\n",
       "      <td>2</td>\n",
       "      <td>14</td>\n",
       "      <td>15</td>\n",
       "      <td>commodity</td>\n",
       "      <td>kg</td>\n",
       "      <td>5.0</td>\n",
       "    </tr>\n",
       "    <tr>\n",
       "      <th>3</th>\n",
       "      <td>8adf3442-ee54-47cc-8a4d-cd1baf6d2401</td>\n",
       "      <td>3</td>\n",
       "      <td>25</td>\n",
       "      <td>17</td>\n",
       "      <td>3</td>\n",
       "      <td>14</td>\n",
       "      <td>15</td>\n",
       "      <td>commodity</td>\n",
       "      <td>kg</td>\n",
       "      <td>5.0</td>\n",
       "    </tr>\n",
       "    <tr>\n",
       "      <th>4</th>\n",
       "      <td>8adf3442-ee54-47cc-8a4d-cd1baf6d2401</td>\n",
       "      <td>4</td>\n",
       "      <td>31</td>\n",
       "      <td>21</td>\n",
       "      <td>4</td>\n",
       "      <td>14</td>\n",
       "      <td>15</td>\n",
       "      <td>commodity</td>\n",
       "      <td>kg</td>\n",
       "      <td>5.0</td>\n",
       "    </tr>\n",
       "    <tr>\n",
       "      <th>...</th>\n",
       "      <td>...</td>\n",
       "      <td>...</td>\n",
       "      <td>...</td>\n",
       "      <td>...</td>\n",
       "      <td>...</td>\n",
       "      <td>...</td>\n",
       "      <td>...</td>\n",
       "      <td>...</td>\n",
       "      <td>...</td>\n",
       "      <td>...</td>\n",
       "    </tr>\n",
       "    <tr>\n",
       "      <th>95</th>\n",
       "      <td>8adf3442-ee54-47cc-8a4d-cd1baf6d2401</td>\n",
       "      <td>95</td>\n",
       "      <td>577</td>\n",
       "      <td>385</td>\n",
       "      <td>95</td>\n",
       "      <td>14</td>\n",
       "      <td>15</td>\n",
       "      <td>commodity</td>\n",
       "      <td>kg</td>\n",
       "      <td>5.0</td>\n",
       "    </tr>\n",
       "    <tr>\n",
       "      <th>96</th>\n",
       "      <td>8adf3442-ee54-47cc-8a4d-cd1baf6d2401</td>\n",
       "      <td>96</td>\n",
       "      <td>583</td>\n",
       "      <td>389</td>\n",
       "      <td>96</td>\n",
       "      <td>14</td>\n",
       "      <td>15</td>\n",
       "      <td>commodity</td>\n",
       "      <td>kg</td>\n",
       "      <td>5.0</td>\n",
       "    </tr>\n",
       "    <tr>\n",
       "      <th>97</th>\n",
       "      <td>8adf3442-ee54-47cc-8a4d-cd1baf6d2401</td>\n",
       "      <td>97</td>\n",
       "      <td>589</td>\n",
       "      <td>393</td>\n",
       "      <td>97</td>\n",
       "      <td>14</td>\n",
       "      <td>15</td>\n",
       "      <td>commodity</td>\n",
       "      <td>kg</td>\n",
       "      <td>5.0</td>\n",
       "    </tr>\n",
       "    <tr>\n",
       "      <th>98</th>\n",
       "      <td>8adf3442-ee54-47cc-8a4d-cd1baf6d2401</td>\n",
       "      <td>98</td>\n",
       "      <td>595</td>\n",
       "      <td>397</td>\n",
       "      <td>98</td>\n",
       "      <td>14</td>\n",
       "      <td>15</td>\n",
       "      <td>commodity</td>\n",
       "      <td>kg</td>\n",
       "      <td>5.0</td>\n",
       "    </tr>\n",
       "    <tr>\n",
       "      <th>99</th>\n",
       "      <td>8adf3442-ee54-47cc-8a4d-cd1baf6d2401</td>\n",
       "      <td>99</td>\n",
       "      <td>601</td>\n",
       "      <td>401</td>\n",
       "      <td>99</td>\n",
       "      <td>14</td>\n",
       "      <td>15</td>\n",
       "      <td>commodity</td>\n",
       "      <td>kg</td>\n",
       "      <td>5.0</td>\n",
       "    </tr>\n",
       "  </tbody>\n",
       "</table>\n",
       "<p>100 rows × 10 columns</p>\n",
       "</div>"
      ],
      "text/plain": [
       "                                   SimId  TransactionId  ResourceId  ObjId  \\\n",
       "0   8adf3442-ee54-47cc-8a4d-cd1baf6d2401              0           7      5   \n",
       "1   8adf3442-ee54-47cc-8a4d-cd1baf6d2401              1          13      9   \n",
       "2   8adf3442-ee54-47cc-8a4d-cd1baf6d2401              2          19     13   \n",
       "3   8adf3442-ee54-47cc-8a4d-cd1baf6d2401              3          25     17   \n",
       "4   8adf3442-ee54-47cc-8a4d-cd1baf6d2401              4          31     21   \n",
       "..                                   ...            ...         ...    ...   \n",
       "95  8adf3442-ee54-47cc-8a4d-cd1baf6d2401             95         577    385   \n",
       "96  8adf3442-ee54-47cc-8a4d-cd1baf6d2401             96         583    389   \n",
       "97  8adf3442-ee54-47cc-8a4d-cd1baf6d2401             97         589    393   \n",
       "98  8adf3442-ee54-47cc-8a4d-cd1baf6d2401             98         595    397   \n",
       "99  8adf3442-ee54-47cc-8a4d-cd1baf6d2401             99         601    401   \n",
       "\n",
       "    TimeCreated  SenderId  ReceiverId  Commodity Units  Quantity  \n",
       "0             0        14          15  commodity    kg       5.0  \n",
       "1             1        14          15  commodity    kg       5.0  \n",
       "2             2        14          15  commodity    kg       5.0  \n",
       "3             3        14          15  commodity    kg       5.0  \n",
       "4             4        14          15  commodity    kg       5.0  \n",
       "..          ...       ...         ...        ...   ...       ...  \n",
       "95           95        14          15  commodity    kg       5.0  \n",
       "96           96        14          15  commodity    kg       5.0  \n",
       "97           97        14          15  commodity    kg       5.0  \n",
       "98           98        14          15  commodity    kg       5.0  \n",
       "99           99        14          15  commodity    kg       5.0  \n",
       "\n",
       "[100 rows x 10 columns]"
      ]
     },
     "execution_count": 9,
     "metadata": {},
     "output_type": "execute_result"
    }
   ],
   "source": [
    "data['no-behavior']['t_s']"
   ]
  },
  {
   "cell_type": "markdown",
   "id": "6fee0c9b",
   "metadata": {},
   "source": [
    "# Plots\n",
    "## transactions subplots"
   ]
  },
  {
   "cell_type": "code",
   "execution_count": 7,
   "id": "fatal-wales",
   "metadata": {},
   "outputs": [
    {
     "ename": "KeyError",
     "evalue": "'Time'",
     "output_type": "error",
     "traceback": [
      "\u001b[0;31m---------------------------------------------------------------------------\u001b[0m",
      "\u001b[0;31mKeyError\u001b[0m                                  Traceback (most recent call last)",
      "File \u001b[0;32m~/.local/lib/python3.10/site-packages/pandas/core/indexes/base.py:3805\u001b[0m, in \u001b[0;36mIndex.get_loc\u001b[0;34m(self, key)\u001b[0m\n\u001b[1;32m   3804\u001b[0m \u001b[38;5;28;01mtry\u001b[39;00m:\n\u001b[0;32m-> 3805\u001b[0m     \u001b[38;5;28;01mreturn\u001b[39;00m \u001b[38;5;28;43mself\u001b[39;49m\u001b[38;5;241;43m.\u001b[39;49m\u001b[43m_engine\u001b[49m\u001b[38;5;241;43m.\u001b[39;49m\u001b[43mget_loc\u001b[49m\u001b[43m(\u001b[49m\u001b[43mcasted_key\u001b[49m\u001b[43m)\u001b[49m\n\u001b[1;32m   3806\u001b[0m \u001b[38;5;28;01mexcept\u001b[39;00m \u001b[38;5;167;01mKeyError\u001b[39;00m \u001b[38;5;28;01mas\u001b[39;00m err:\n",
      "File \u001b[0;32mindex.pyx:167\u001b[0m, in \u001b[0;36mpandas._libs.index.IndexEngine.get_loc\u001b[0;34m()\u001b[0m\n",
      "File \u001b[0;32mindex.pyx:196\u001b[0m, in \u001b[0;36mpandas._libs.index.IndexEngine.get_loc\u001b[0;34m()\u001b[0m\n",
      "File \u001b[0;32mpandas/_libs/hashtable_class_helper.pxi:7081\u001b[0m, in \u001b[0;36mpandas._libs.hashtable.PyObjectHashTable.get_item\u001b[0;34m()\u001b[0m\n",
      "File \u001b[0;32mpandas/_libs/hashtable_class_helper.pxi:7089\u001b[0m, in \u001b[0;36mpandas._libs.hashtable.PyObjectHashTable.get_item\u001b[0;34m()\u001b[0m\n",
      "\u001b[0;31mKeyError\u001b[0m: 'Time'",
      "\nThe above exception was the direct cause of the following exception:\n",
      "\u001b[0;31mKeyError\u001b[0m                                  Traceback (most recent call last)",
      "Cell \u001b[0;32mIn[7], line 18\u001b[0m\n\u001b[1;32m     15\u001b[0m ax0\u001b[38;5;241m.\u001b[39mset_xticks(np\u001b[38;5;241m.\u001b[39marange(\u001b[38;5;241m0\u001b[39m, \u001b[38;5;241m101\u001b[39m, \u001b[38;5;241m20\u001b[39m))\n\u001b[1;32m     16\u001b[0m ax0\u001b[38;5;241m.\u001b[39mset_yticks(np\u001b[38;5;241m.\u001b[39marange(\u001b[38;5;241m0\u001b[39m, \u001b[38;5;241m1.11\u001b[39m, \u001b[38;5;241m0.2\u001b[39m))\n\u001b[0;32m---> 18\u001b[0m ax0\u001b[38;5;241m.\u001b[39mscatter(\u001b[43mdata\u001b[49m\u001b[43m[\u001b[49m\u001b[38;5;124;43m'\u001b[39;49m\u001b[38;5;124;43mno-behavior\u001b[39;49m\u001b[38;5;124;43m'\u001b[39;49m\u001b[43m]\u001b[49m\u001b[43m[\u001b[49m\u001b[38;5;124;43m'\u001b[39;49m\u001b[38;5;124;43mt_s\u001b[39;49m\u001b[38;5;124;43m'\u001b[39;49m\u001b[43m]\u001b[49m\u001b[43m[\u001b[49m\u001b[38;5;124;43m'\u001b[39;49m\u001b[38;5;124;43mTime\u001b[39;49m\u001b[38;5;124;43m'\u001b[39;49m\u001b[43m]\u001b[49m,\n\u001b[1;32m     19\u001b[0m             data[\u001b[38;5;124m'\u001b[39m\u001b[38;5;124mno-behavior\u001b[39m\u001b[38;5;124m'\u001b[39m][\u001b[38;5;124m'\u001b[39m\u001b[38;5;124mt_s\u001b[39m\u001b[38;5;124m'\u001b[39m][\u001b[38;5;124m'\u001b[39m\u001b[38;5;124mQuantity\u001b[39m\u001b[38;5;124m'\u001b[39m],\n\u001b[1;32m     20\u001b[0m             color\u001b[38;5;241m=\u001b[39m \u001b[38;5;124m'\u001b[39m\u001b[38;5;124mk\u001b[39m\u001b[38;5;124m'\u001b[39m)\n\u001b[1;32m     21\u001b[0m ax0\u001b[38;5;241m.\u001b[39mset_title(\u001b[38;5;124m'\u001b[39m\u001b[38;5;124mDefault Sink\u001b[39m\u001b[38;5;124m'\u001b[39m)\n\u001b[1;32m     23\u001b[0m ax1 \u001b[38;5;241m=\u001b[39m fig\u001b[38;5;241m.\u001b[39madd_subplot(\u001b[38;5;241m342\u001b[39m, sharex\u001b[38;5;241m=\u001b[39max0)\u001b[38;5;66;03m#, sharey=ax0)\u001b[39;00m\n",
      "File \u001b[0;32m~/.local/lib/python3.10/site-packages/pandas/core/frame.py:4102\u001b[0m, in \u001b[0;36mDataFrame.__getitem__\u001b[0;34m(self, key)\u001b[0m\n\u001b[1;32m   4100\u001b[0m \u001b[38;5;28;01mif\u001b[39;00m \u001b[38;5;28mself\u001b[39m\u001b[38;5;241m.\u001b[39mcolumns\u001b[38;5;241m.\u001b[39mnlevels \u001b[38;5;241m>\u001b[39m \u001b[38;5;241m1\u001b[39m:\n\u001b[1;32m   4101\u001b[0m     \u001b[38;5;28;01mreturn\u001b[39;00m \u001b[38;5;28mself\u001b[39m\u001b[38;5;241m.\u001b[39m_getitem_multilevel(key)\n\u001b[0;32m-> 4102\u001b[0m indexer \u001b[38;5;241m=\u001b[39m \u001b[38;5;28;43mself\u001b[39;49m\u001b[38;5;241;43m.\u001b[39;49m\u001b[43mcolumns\u001b[49m\u001b[38;5;241;43m.\u001b[39;49m\u001b[43mget_loc\u001b[49m\u001b[43m(\u001b[49m\u001b[43mkey\u001b[49m\u001b[43m)\u001b[49m\n\u001b[1;32m   4103\u001b[0m \u001b[38;5;28;01mif\u001b[39;00m is_integer(indexer):\n\u001b[1;32m   4104\u001b[0m     indexer \u001b[38;5;241m=\u001b[39m [indexer]\n",
      "File \u001b[0;32m~/.local/lib/python3.10/site-packages/pandas/core/indexes/base.py:3812\u001b[0m, in \u001b[0;36mIndex.get_loc\u001b[0;34m(self, key)\u001b[0m\n\u001b[1;32m   3807\u001b[0m     \u001b[38;5;28;01mif\u001b[39;00m \u001b[38;5;28misinstance\u001b[39m(casted_key, \u001b[38;5;28mslice\u001b[39m) \u001b[38;5;129;01mor\u001b[39;00m (\n\u001b[1;32m   3808\u001b[0m         \u001b[38;5;28misinstance\u001b[39m(casted_key, abc\u001b[38;5;241m.\u001b[39mIterable)\n\u001b[1;32m   3809\u001b[0m         \u001b[38;5;129;01mand\u001b[39;00m \u001b[38;5;28many\u001b[39m(\u001b[38;5;28misinstance\u001b[39m(x, \u001b[38;5;28mslice\u001b[39m) \u001b[38;5;28;01mfor\u001b[39;00m x \u001b[38;5;129;01min\u001b[39;00m casted_key)\n\u001b[1;32m   3810\u001b[0m     ):\n\u001b[1;32m   3811\u001b[0m         \u001b[38;5;28;01mraise\u001b[39;00m InvalidIndexError(key)\n\u001b[0;32m-> 3812\u001b[0m     \u001b[38;5;28;01mraise\u001b[39;00m \u001b[38;5;167;01mKeyError\u001b[39;00m(key) \u001b[38;5;28;01mfrom\u001b[39;00m \u001b[38;5;21;01merr\u001b[39;00m\n\u001b[1;32m   3813\u001b[0m \u001b[38;5;28;01mexcept\u001b[39;00m \u001b[38;5;167;01mTypeError\u001b[39;00m:\n\u001b[1;32m   3814\u001b[0m     \u001b[38;5;66;03m# If we have a listlike key, _check_indexing_error will raise\u001b[39;00m\n\u001b[1;32m   3815\u001b[0m     \u001b[38;5;66;03m#  InvalidIndexError. Otherwise we fall through and re-raise\u001b[39;00m\n\u001b[1;32m   3816\u001b[0m     \u001b[38;5;66;03m#  the TypeError.\u001b[39;00m\n\u001b[1;32m   3817\u001b[0m     \u001b[38;5;28mself\u001b[39m\u001b[38;5;241m.\u001b[39m_check_indexing_error(key)\n",
      "\u001b[0;31mKeyError\u001b[0m: 'Time'"
     ]
    },
    {
     "data": {
      "image/png": "[encoded data removed]",
      "text/plain": [
       "<Figure size 1000x600 with 2 Axes>"
      ]
     },
     "metadata": {},
     "output_type": "display_data"
    }
   ],
   "source": [
    "fig = plt.figure(figsize = (10, 6))\n",
    "\n",
    "ax = fig.add_subplot(111)\n",
    "ax.set_xlabel('Time (step)')\n",
    "ax.set_ylabel('Quantity of Material Received (kg)')\n",
    "ax.spines['top'].set_color('none')\n",
    "ax.spines['bottom'].set_color('none')\n",
    "ax.spines['left'].set_color('none')\n",
    "ax.spines['right'].set_color('none')\n",
    "ax.tick_params(labelcolor='w', top= False, bottom= False, left= False, right= False)\n",
    "\n",
    "ax0 = fig.add_subplot(341)\n",
    "plt.xlim(-0.5,100)\n",
    "plt.ylim(0,1.1)\n",
    "ax0.set_xticks(np.arange(0, 101, 20))\n",
    "ax0.set_yticks(np.arange(0, 1.11, 0.2))\n",
    "\n",
    "ax0.scatter(data['no-behavior']['t_s']['Time'],\n",
    "            data['no-behavior']['t_s']['Quantity'],\n",
    "            color= 'k')\n",
    "ax0.set_title('Default Sink')\n",
    "\n",
    "ax1 = fig.add_subplot(342, sharex=ax0)#, sharey=ax0)\n",
    "\n",
    "ax1.scatter(data['rbsa_0']['t_s']['Time'],\n",
    "            data['rbsa_0']['t_s']['Quantity'],\n",
    "            color= 'k')\n",
    "ax1.set_title('0')\n",
    "ax1.set_ylim([-0.5,20.5])\n",
    "\n",
    "for i in range(1,11):\n",
    "    ax_n = fig.add_subplot(3,4,i+2, sharex=ax0, sharey=ax1)\n",
    "    ax_n.scatter(data['rbsa_' + str(i)]['t_s']['Time'],\n",
    "            data['rbsa_' + str(i)]['t_s']['Quantity'],\n",
    "            color= 'k')\n",
    "    ax_n.set_title(str(i))\n",
    "\n",
    "\n",
    "fig.suptitle('Random Sink', x=0.55)\n",
    "fig.tight_layout()\n",
    "\n",
    "#plt.savefig('transactions-subplots', transparent=True)\n"
   ]
  },
  {
   "cell_type": "markdown",
   "id": "d59754be",
   "metadata": {},
   "source": [
    "## Cumulative received subplots"
   ]
  },
  {
   "cell_type": "code",
   "execution_count": null,
   "id": "duplicate-shore",
   "metadata": {},
   "outputs": [],
   "source": [
    "data['no-behavior']['t_s']['CumQuant'] = data['no-behavior']['t_s']['Quantity'].cumsum()\n",
    "\n",
    "for i in range(0,11):\n",
    "    data['rbsa_' + str(i)\n",
    "        ]['t_s']['CumQuant'] = data['rbsa_' + str(i)\n",
    "                                   ]['t_s']['Quantity'].cumsum()\n",
    "    "
   ]
  },
  {
   "cell_type": "code",
   "execution_count": null,
   "id": "affa3845",
   "metadata": {},
   "outputs": [],
   "source": [
    "data['rbsa_0']['t_s']"
   ]
  },
  {
   "cell_type": "markdown",
   "id": "40445db0",
   "metadata": {},
   "source": [
    "## Cumulative single plot"
   ]
  },
  {
   "cell_type": "code",
   "execution_count": null,
   "id": "25ccd7de",
   "metadata": {},
   "outputs": [],
   "source": [
    "fig = plt.figure(figsize = (8, 4))\n",
    "\n",
    "ax = fig.add_subplot(111)\n",
    "ax.set_xlabel('Time (step)')\n",
    "ax.set_ylabel('Cumulative Material Received (kg)')\n",
    "\n",
    "plt.xlim(-0.5,8)\n",
    "plt.ylim(0,10)\n",
    "ax.set_xticks(np.arange(0, 9, 1))\n",
    "ax.set_yticks(np.arange(0, 11, 1))\n",
    "\n",
    "\n",
    "ax.step(data['no-behavior']['t_s']['Time'],\n",
    "        data['no-behavior']['t_s']['CumQuant'],\n",
    "        where='post',\n",
    "        color= '0.6',\n",
    "        ls='dashed', \n",
    "        label='Default Behavior')\n",
    "\n",
    "\n",
    "\n",
    "#ax.legend(loc = 'upper left')\n",
    "\n",
    "plt.title('Random Sink')\n",
    "\n",
    "#plt.savefig('cumulative-oneplot', transparent=True)\n"
   ]
  },
  {
   "cell_type": "code",
   "execution_count": null,
   "id": "98caf14e",
   "metadata": {},
   "outputs": [],
   "source": [
    "fig = plt.figure(figsize = (8, 4))\n",
    "\n",
    "ax = fig.add_subplot(111)\n",
    "plt.xlim(-0.5,100)\n",
    "plt.ylim(0,100)\n",
    "\n",
    "ax.stairs(edges=data['rbsa_0']['t_s']['Time'],\n",
    "        values=data['rbsa_0']['t_s']['CumQuant'].iloc[:-1]\n",
    "         )\n",
    "\n",
    "plt.title(\"Stairs\")\n"
   ]
  },
  {
   "cell_type": "code",
   "execution_count": null,
   "id": "c8b2680b",
   "metadata": {},
   "outputs": [],
   "source": [
    "fig = plt.figure(figsize = (9, 5))\n",
    "\n",
    "ax = fig.add_subplot(111)\n",
    "ax.set_xlabel('Time (step)')\n",
    "ax.set_ylabel('Cumulative Material Received (kg)')\n",
    "\n",
    "plt.xlim(-0.5,100)\n",
    "plt.ylim(0,130)\n",
    "ax.set_xticks(np.arange(0, 101, 20))\n",
    "ax.set_yticks(np.arange(0, 131, 20))\n",
    "\n",
    "\n",
    "ax.step(data['no-behavior']['t_s']['Time'],\n",
    "        data['no-behavior']['t_s']['CumQuant'],\n",
    "        where='pre',\n",
    "        color= '0.6',\n",
    "        ls='dashed', \n",
    "        label='Default Behavior')\n",
    "\n",
    "for i in range(1,11):\n",
    "    ax.step(data['rbsa_' + str(i)]['t_s']['Time'],\n",
    "            data['rbsa_' + str(i)]['t_s']['CumQuant'],\n",
    "            where='pre',\n",
    "            color= 'k',\n",
    "            label= str(i))\n",
    "\n",
    "# for i in range(1,11):\n",
    "#     ax.stairs(edges=data['rbsa_' + str(i)]['t_s']['Time'],\n",
    "#             values=data['rbsa_' + str(i)]['t_s']['CumQuant'].iloc[:-1],\n",
    "#             label= str(i))\n",
    "    \n",
    "#ax.legend(loc = 'upper left')\n",
    "\n",
    "plt.title('The same parameters for 10 different facilities')\n",
    "\n",
    "plt.savefig('plots/cumulative-oneplot', transparent=True, dpi=600)\n"
   ]
  },
  {
   "cell_type": "code",
   "execution_count": null,
   "id": "sapphire-breakdown",
   "metadata": {},
   "outputs": [],
   "source": [
    "len(data['rbsa_10']['t_s'])"
   ]
  },
  {
   "cell_type": "markdown",
   "id": "b9348de8",
   "metadata": {},
   "source": [
    "## Final amount received"
   ]
  },
  {
   "cell_type": "code",
   "execution_count": null,
   "id": "6c24fc2c",
   "metadata": {},
   "outputs": [],
   "source": [
    "final_amount = []\n",
    "for i in range(0,11):\n",
    "    final_amount.append(data['rbsa_' + str(i)]['t_s']['CumQuant'].iloc[-1],)"
   ]
  },
  {
   "cell_type": "code",
   "execution_count": null,
   "id": "12fd219d",
   "metadata": {
    "scrolled": true
   },
   "outputs": [],
   "source": [
    "sns.boxplot(final_amount)"
   ]
  },
  {
   "cell_type": "markdown",
   "id": "86e1e31d",
   "metadata": {},
   "source": [
    "## Time between and size"
   ]
  },
  {
   "cell_type": "code",
   "execution_count": null,
   "id": "f4e44ff0",
   "metadata": {},
   "outputs": [],
   "source": [
    "data['no-behavior']['t_s']['TimeBetweenReqs'] = data['no-behavior']['t_s']['Time'].diff()\n",
    "\n",
    "for i in range(0,11):\n",
    "    data['rbsa_' + str(i)\n",
    "        ]['t_s']['TimeBetweenReqs'] = data['rbsa_' + str(i)\n",
    "                                          ]['t_s']['Time'].diff()"
   ]
  },
  {
   "cell_type": "code",
   "execution_count": null,
   "id": "9674ad34",
   "metadata": {},
   "outputs": [],
   "source": [
    "fig = plt.figure(figsize = (8, 4))\n",
    "\n",
    "ax = fig.add_subplot(111)\n",
    "ax.set_xlabel('Time (step)')\n",
    "ax.set_ylabel('Cumulative Material Received (kg)')\n",
    "\n",
    "# plt.xlim(-0.5,100)\n",
    "# plt.ylim(0,120)\n",
    "# ax.set_xticks(np.arange(0, 101, 20))\n",
    "# ax.set_yticks(np.arange(0, 121, 20))\n",
    "\n",
    "\n",
    "ax.scatter(data['no-behavior']['t_s']['TimeBetweenReqs'],\n",
    "        data['no-behavior']['t_s']['Quantity'],\n",
    "        color= '0.6',\n",
    "        label='Default Behavior')\n",
    "\n",
    "ax.scatter(data['rbsa_0']['t_s']['TimeBetweenReqs'],\n",
    "        data['rbsa_0']['t_s']['Quantity'],\n",
    "        color= 'k',\n",
    "        label='Default Behavior')\n",
    "\n",
    "\n",
    "#ax.legend(loc = 'upper left')\n",
    "\n",
    "#plt.title('Random Sink')\n",
    "\n",
    "#plt.savefig('cumulative-oneplot', transparent=True)\n"
   ]
  },
  {
   "cell_type": "code",
   "execution_count": null,
   "id": "6e0aac46",
   "metadata": {},
   "outputs": [],
   "source": [
    "multiple_timesteps = ['rbsa_1000.sqlite',\n",
    "                      'rbsa_10000.sqlite',\n",
    "                      'rbsa_100000.sqlite']\n",
    "\n",
    "mts = {}\n",
    "for file in multiple_timesteps:\n",
    "    (name, file_data) = get_data(file)\n",
    "    mts[name] = file_data"
   ]
  },
  {
   "cell_type": "code",
   "execution_count": null,
   "id": "f9567acc",
   "metadata": {},
   "outputs": [],
   "source": [
    "mts['rbsa_100000']['transactions']\n"
   ]
  },
  {
   "cell_type": "code",
   "execution_count": null,
   "id": "51790980",
   "metadata": {},
   "outputs": [],
   "source": [
    "for i in ['1000', '10000', '100000']:\n",
    "    mts['rbsa_' + i\n",
    "       ]['t_s']['TimeBetweenReqs'] = mts['rbsa_' + i\n",
    "                                        ]['t_s']['Time'].diff()\n"
   ]
  },
  {
   "cell_type": "code",
   "execution_count": null,
   "id": "6d365f08",
   "metadata": {},
   "outputs": [],
   "source": [
    "mts['rbsa_1000']['t_s']"
   ]
  },
  {
   "cell_type": "code",
   "execution_count": null,
   "id": "4264a6a1",
   "metadata": {},
   "outputs": [],
   "source": [
    "sns.jointplot(mts['rbsa_1000']['t_s'],\n",
    "            x=\"TimeBetweenReqs\",\n",
    "            y=\"Quantity\",\n",
    "            #kind='kde',\n",
    "            #levels=6\n",
    "             )\n",
    "plt.suptitle('1,000 time steps')\n",
    "\n",
    "sns.jointplot(mts['rbsa_1000']['t_s'],\n",
    "            x=\"TimeBetweenReqs\",\n",
    "            y=\"Quantity\",\n",
    "            kind='kde',\n",
    "            levels=6\n",
    "             )\n",
    "plt.suptitle('1,000 time steps')\n"
   ]
  },
  {
   "cell_type": "code",
   "execution_count": null,
   "id": "42185cb7",
   "metadata": {},
   "outputs": [],
   "source": [
    "sns.jointplot(mts['rbsa_10000']['t_s'],\n",
    "            x=\"TimeBetweenReqs\",\n",
    "            y=\"Quantity\",\n",
    "             )\n",
    "plt.suptitle('10,000 time steps')\n",
    "\n",
    "sns.jointplot(mts['rbsa_10000']['t_s'],\n",
    "            x=\"TimeBetweenReqs\",\n",
    "            y=\"Quantity\",\n",
    "            kind='kde',\n",
    "            levels=6\n",
    "             )\n",
    "plt.suptitle('10,000 time steps')"
   ]
  },
  {
   "cell_type": "code",
   "execution_count": null,
   "id": "b1c3371b",
   "metadata": {},
   "outputs": [],
   "source": [
    "sns.jointplot(mts['rbsa_100000']['t_s'],\n",
    "            x=\"TimeBetweenReqs\",\n",
    "            y=\"Quantity\",\n",
    "            kind='kde',\n",
    "            levels=6)\n",
    "plt.suptitle('100,000 time steps')\n",
    "\n"
   ]
  },
  {
   "cell_type": "code",
   "execution_count": null,
   "id": "6696206a",
   "metadata": {},
   "outputs": [],
   "source": [
    "len(mts['rbsa_100000']['t_s'])"
   ]
  },
  {
   "cell_type": "code",
   "execution_count": null,
   "id": "a14e2d09",
   "metadata": {},
   "outputs": [],
   "source": []
  }
 ],
 "metadata": {
  "kernelspec": {
   "display_name": "Python 3",
   "language": "python",
   "name": "python3"
  },
  "language_info": {
   "codemirror_mode": {
    "name": "ipython",
    "version": 3
   },
   "file_extension": ".py",
   "mimetype": "text/x-python",
   "name": "python",
   "nbconvert_exporter": "python",
   "pygments_lexer": "ipython3",
   "version": "3.10.12"
  }
 },
 "nbformat": 4,
 "nbformat_minor": 5
}
