{
 "cells": [
  {
   "cell_type": "markdown",
   "id": "coastal-citation",
   "metadata": {},
   "source": [
    "# Fixed-active-dormant\n",
    "\n",
    "## imports"
   ]
  },
  {
   "cell_type": "code",
   "execution_count": null,
   "id": "cathedral-termination",
   "metadata": {},
   "outputs": [],
   "source": [
    "import os\n",
    "import numpy as np\n",
    "import pandas as pd\n",
    "import matplotlib.pyplot as plt\n",
    "import seaborn as sns\n",
    "#import sqlite3"
   ]
  },
  {
   "cell_type": "code",
   "execution_count": null,
   "id": "vertical-methodology",
   "metadata": {},
   "outputs": [],
   "source": [
    "import cymetric as cym\n",
    "from cymetric import graphs\n",
    "from cymetric import timeseries"
   ]
  },
  {
   "cell_type": "code",
   "execution_count": null,
   "id": "collect-rachel",
   "metadata": {},
   "outputs": [],
   "source": [
    "fig_params = {'axes.labelsize': 11.5,\n",
    "              'font.family': 'serif',\n",
    "              'font.size': 10,\n",
    "              'legend.fontsize': 11,\n",
    "              'xtick.labelsize': 10.5,\n",
    "              'ytick.labelsize': 11,\n",
    "              'figure.figsize': [9, 6],\n",
    "              'figure.titlesize': 14.5,\n",
    "              'savefig.format': 'png',\n",
    "              'savefig.bbox': 'tight'}\n",
    "plt.rcParams.update(fig_params)\n",
    "\n",
    "#palette = []\n",
    "#sns.set_palette(sns.comor_palette(palette))"
   ]
  },
  {
   "cell_type": "markdown",
   "id": "wireless-macro",
   "metadata": {},
   "source": [
    "## utils\n",
    "- includes behavior and default (no behavior) as comparison"
   ]
  },
  {
   "cell_type": "code",
   "execution_count": null,
   "id": "included-cross",
   "metadata": {},
   "outputs": [],
   "source": [
    "def get_data(file):\n",
    "    db = cym.dbopen(file)\n",
    "    evaler = cym.Evaluator(db)\n",
    "    \n",
    "    name = os.path.splitext(file)[0]\n",
    "    \n",
    "    transactions = evaler.eval('TransactionQuantity')\n",
    "    agents = evaler.eval('Agents')\n",
    "    \n",
    "    storage_id = agents.loc[agents[\"Prototype\"] == \"Storage\"][\"AgentId\"]\n",
    "    transaction_subset = transactions.loc[transactions[\"ReceiverId\"] == storage_id.item()]\n",
    "    \n",
    "    data = {'ev': evaler,\n",
    "            'agents': agents,\n",
    "            'transactions': transactions,\n",
    "            't_s': transaction_subset}\n",
    "    \n",
    "    return name, data"
   ]
  },
  {
   "cell_type": "markdown",
   "id": "c609b511",
   "metadata": {},
   "source": [
    "## input file names below"
   ]
  },
  {
   "cell_type": "code",
   "execution_count": null,
   "id": "a52bbeeb",
   "metadata": {},
   "outputs": [],
   "source": [
    "filenames = ['no-behavior.sqlite', 'behavior-example.sqlite']"
   ]
  },
  {
   "cell_type": "markdown",
   "id": "0adf6679",
   "metadata": {},
   "source": [
    "## grab all data"
   ]
  },
  {
   "cell_type": "code",
   "execution_count": null,
   "id": "professional-calculation",
   "metadata": {},
   "outputs": [],
   "source": [
    "data = {}\n",
    "for file in filenames:\n",
    "    (name, file_data) = get_data(file)\n",
    "    data[name] = file_data"
   ]
  },
  {
   "cell_type": "markdown",
   "id": "07d3c002",
   "metadata": {},
   "source": [
    "# Plots\n",
    "## transactions subplots"
   ]
  },
  {
   "cell_type": "code",
   "execution_count": null,
   "id": "fatal-wales",
   "metadata": {},
   "outputs": [],
   "source": [
    "fig = plt.figure(figsize = (8, 6))\n",
    "\n",
    "ax = fig.add_subplot(111)\n",
    "ax.set_xlabel('Time (step)')\n",
    "ax.set_ylabel('Quantity of Material Received (kg)')\n",
    "ax.spines['top'].set_color('none')\n",
    "ax.spines['bottom'].set_color('none')\n",
    "ax.spines['left'].set_color('none')\n",
    "ax.spines['right'].set_color('none')\n",
    "ax.tick_params(labelcolor='w', top= False, bottom= False, left= False, right= False)\n",
    "\n",
    "ax0 = fig.add_subplot(211)\n",
    "# ax.set_xlabel('Time')\n",
    "# ax.set_ylabel('Quantity Received')\n",
    "plt.xlim(-0.5,16)\n",
    "plt.ylim(0,9)\n",
    "ax0.set_xticks(np.arange(0, 16, 2))\n",
    "ax0.set_yticks(np.arange(0, 10, 2.5))\n",
    "\n",
    "ax0.scatter(data['no-behavior']['t_s']['Time'],\n",
    "            data['no-behavior']['t_s']['Quantity'],\n",
    "            color= 'k')\n",
    "ax0.set_title('Default storage behavior')\n",
    "\n",
    "ax1 = fig.add_subplot(212, sharex=ax0, sharey=ax0)\n",
    "\n",
    "ax1.scatter(data['behavior-example']['t_s']['Time'],\n",
    "            data['behavior-example']['t_s']['Quantity'],\n",
    "            color= 'k')\n",
    "ax1.set_title('Fixed 5-on, 2-off behavior')\n",
    "\n",
    "fig.suptitle('Fixed Active and Dormant Periods', x=0.55)\n",
    "fig.tight_layout()\n",
    "\n",
    "plt.savefig('transactions-subplots', transparent=True)"
   ]
  },
  {
   "cell_type": "markdown",
   "id": "59139065",
   "metadata": {},
   "source": [
    "## Cumulative received subplots"
   ]
  },
  {
   "cell_type": "code",
   "execution_count": null,
   "id": "sapphire-breakdown",
   "metadata": {},
   "outputs": [],
   "source": [
    "data['no-behavior']['t_s']['CumQuant'] = data['no-behavior']['t_s']['Quantity'].cumsum()\n",
    "data['behavior-example']['t_s']['CumQuant'] = data['behavior-example']['t_s']['Quantity'].cumsum()"
   ]
  },
  {
   "cell_type": "code",
   "execution_count": null,
   "id": "cd831045",
   "metadata": {},
   "outputs": [],
   "source": [
    "fig = plt.figure(figsize = (8, 6))\n",
    "\n",
    "ax = fig.add_subplot(111)\n",
    "ax.set_xlabel('Time (step)')\n",
    "ax.set_ylabel('Cumulative Material Received (kg)')\n",
    "ax.spines['top'].set_color('none')\n",
    "ax.spines['bottom'].set_color('none')\n",
    "ax.spines['left'].set_color('none')\n",
    "ax.spines['right'].set_color('none')\n",
    "ax.tick_params(labelcolor='w', top= False, bottom= False, left= False, right= False)\n",
    "\n",
    "ax0 = fig.add_subplot(211)\n",
    "# ax.set_xlabel('Time')\n",
    "# ax.set_ylabel('Quantity Received')\n",
    "plt.xlim(-0.5,16)\n",
    "plt.ylim(0,110)\n",
    "ax0.set_xticks(np.arange(0, 16, 2))\n",
    "ax0.set_yticks(np.arange(0, 101, 25))\n",
    "\n",
    "\n",
    "ax0.step(data['no-behavior']['t_s']['Time'],\n",
    "         data['no-behavior']['t_s']['CumQuant'],\n",
    "         color= 'k')\n",
    "ax0.set_title('Default storage behavior')\n",
    "\n",
    "ax1 = fig.add_subplot(212, sharex=ax0, sharey=ax0)\n",
    "\n",
    "\n",
    "ax1.step(data['behavior-example']['t_s']['Time'],\n",
    "         data['behavior-example']['t_s']['CumQuant'],\n",
    "         color= 'k')\n",
    "ax1.set_title('Fixed 5-on, 2-off behavior')\n",
    "\n",
    "fig.suptitle('Fixed Active and Dormant Periods', x=0.55)\n",
    "fig.tight_layout()\n",
    "\n",
    "plt.savefig('cumulative-subplots', transparent=True)\n"
   ]
  },
  {
   "cell_type": "markdown",
   "id": "3f192203",
   "metadata": {},
   "source": [
    "## Cumulative single plot"
   ]
  },
  {
   "cell_type": "code",
   "execution_count": null,
   "id": "b2c3335f",
   "metadata": {},
   "outputs": [],
   "source": [
    "fig = plt.figure(figsize = (8, 4))\n",
    "\n",
    "ax = fig.add_subplot(111)\n",
    "ax.set_xlabel('Time (step)')\n",
    "ax.set_ylabel('Cumulative Material Received (kg)')\n",
    "\n",
    "plt.xlim(-0.5,16.5)\n",
    "plt.ylim(0,105)\n",
    "ax.set_xticks(np.arange(0, 17, 2))\n",
    "ax.set_yticks(np.arange(0, 101, 25))\n",
    "\n",
    "\n",
    "ax.step(data['no-behavior']['t_s']['Time'],\n",
    "        data['no-behavior']['t_s']['CumQuant'],\n",
    "        where='pre',\n",
    "        color= '0.6', ls='dashed', label='Default storage behavior')\n",
    "\n",
    "ax.step(data['behavior-example']['t_s']['Time'],\n",
    "        data['behavior-example']['t_s']['CumQuant'],\n",
    "        where='pre',\n",
    "        color= 'k', label='Fixed 5-on, 2-off behavior')\n",
    "\n",
    "ax.legend(loc = 'upper left')\n",
    "\n",
    "plt.title('Fixed Active and Dormant Periods')\n",
    "\n",
    "plt.savefig('cumulative-oneplot', transparent=True)"
   ]
  }
 ],
 "metadata": {
  "kernelspec": {
   "display_name": "Python 3",
   "language": "python",
   "name": "python3"
  },
  "language_info": {
   "codemirror_mode": {
    "name": "ipython",
    "version": 3
   },
   "file_extension": ".py",
   "mimetype": "text/x-python",
   "name": "python",
   "nbconvert_exporter": "python",
   "pygments_lexer": "ipython3",
   "version": "3.8.10"
  }
 },
 "nbformat": 4,
 "nbformat_minor": 5
}
